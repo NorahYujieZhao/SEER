{
 "cells": [
  {
   "cell_type": "code",
   "execution_count": null,
   "metadata": {},
   "outputs": [],
   "source": [
    "import json\n",
    "import os\n",
    "\n",
    "root = \"/Users/YourName\"\n",
    "\n",
    "# Suppose data file name is data.json\n",
    "input_filename = f'{root}/verilog-eval-release-1.0.0/data/VerilogEval_Human.jsonl'\n",
    "\n",
    "# read and parse data\n",
    "with open(input_filename, 'r') as file:\n",
    "    for line in file:\n",
    "        # parse each line as JSON\n",
    "        data = json.loads(line.strip())\n",
    "        task_id = data['task_id']\n",
    "        test_content = data['test']\n",
    "\n",
    "        # Create a folder to store the testbenches (if not exist)\n",
    "        folder_name = f\"{root}/test\"\n",
    "        if not os.path.exists(folder_name):\n",
    "            os.makedirs(folder_name)\n",
    "\n",
    "        # Create and write the testbench file\n",
    "        output_filename = os.path.join(folder_name, f\"{root}/test/testbench_{task_id}.sv\")\n",
    "        with open(output_filename, 'w') as output_file:\n",
    "            output_file.write(test_content)\n",
    "\n",
    "print(\"Data has been successfully converted to testbenches.\")\n"
   ]
  },
  {
   "cell_type": "code",
   "execution_count": null,
   "metadata": {},
   "outputs": [],
   "source": []
  }
 ],
 "metadata": {
  "kernelspec": {
   "display_name": "Python 3",
   "language": "python",
   "name": "python3"
  },
  "language_info": {
   "codemirror_mode": {
    "name": "ipython",
    "version": 3
   },
   "file_extension": ".py",
   "mimetype": "text/x-python",
   "name": "python",
   "nbconvert_exporter": "python",
   "pygments_lexer": "ipython3",
   "version": "3.9.15"
  }
 },
 "nbformat": 4,
 "nbformat_minor": 2
}
